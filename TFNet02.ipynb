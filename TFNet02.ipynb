{
 "cells": [
  {
   "cell_type": "code",
   "execution_count": 0,
   "metadata": {},
   "outputs": [
    {
     "data": {
      "text/plain": [
       "\u001b[40m\u001b[1m\u001b[33mwarn\u001b[39m\u001b[22m\u001b[49m: InteractiveScriptEngine[0]"
      ]
     },
     "metadata": {},
     "output_type": "display_data"
    },
    {
     "data": {
      "text/plain": [
       "      Unable to cache /var/folders/sx/bqxk7cws5zq4sh8ty79qgm400000gn/T/scripts/Users/lokinfey/Desktop/File/Proj/AI/tensorflownet/Kernel/ICSharpCore-master/src/ICSharpCore/bin/Debug/netcoreapp2.2/REPL/interactive/interactive/script.csproj. For caching and optimal performance, ensure that the script(s) references Nuget packages with a pinned version."
      ]
     },
     "metadata": {},
     "output_type": "display_data"
    },
    {
     "data": {},
     "metadata": {},
     "output_type": "display_data"
    }
   ],
   "source": [
    "#r \"nuget:TensorFlow.NET , 0.11.8.1\""
   ]
  },
  {
   "cell_type": "code",
   "execution_count": 1,
   "metadata": {},
   "outputs": [
    {
     "data": {},
     "metadata": {},
     "output_type": "display_data"
    }
   ],
   "source": [
    "#r \"nuget:SciSharp.TensorFlow.Redist , 1.15.0\""
   ]
  },
  {
   "cell_type": "code",
   "execution_count": 2,
   "metadata": {},
   "outputs": [
    {
     "data": {},
     "metadata": {},
     "output_type": "display_data"
    }
   ],
   "source": [
    "using System;\n",
    "using System.IO;"
   ]
  },
  {
   "cell_type": "code",
   "execution_count": 3,
   "metadata": {},
   "outputs": [
    {
     "data": {},
     "metadata": {},
     "output_type": "display_data"
    }
   ],
   "source": [
    "using Tensorflow;\n",
    "using static Tensorflow.Binding;\n",
    "using NumSharp;"
   ]
  },
  {
   "cell_type": "code",
   "execution_count": 4,
   "metadata": {},
   "outputs": [
    {
     "data": {},
     "metadata": {},
     "output_type": "display_data"
    }
   ],
   "source": [
    "NDArray train_X = np.array(3.3f, 4.4f, 5.5f, 6.71f, 6.93f, 4.168f, 9.779f, 6.182f, 7.59f, 2.167f,7.042f, 10.791f, 5.313f, 7.997f, 5.654f, 9.27f, 3.1f);\n",
    "NDArray train_Y = np.array(1.7f, 2.76f, 2.09f, 3.19f, 1.694f, 1.573f, 3.366f, 2.596f, 2.53f, 1.221f,2.827f, 3.465f, 1.65f, 2.904f, 2.42f, 2.94f, 1.3f);\n",
    "int n_samples = train_X.shape[0];"
   ]
  },
  {
   "cell_type": "code",
   "execution_count": 5,
   "metadata": {},
   "outputs": [
    {
     "data": {},
     "metadata": {},
     "output_type": "display_data"
    }
   ],
   "source": [
    "var X = tf.placeholder(tf.float32);\n",
    "var Y = tf.placeholder(tf.float32);"
   ]
  },
  {
   "cell_type": "code",
   "execution_count": 6,
   "metadata": {},
   "outputs": [
    {
     "data": {},
     "metadata": {},
     "output_type": "display_data"
    }
   ],
   "source": [
    "var W = tf.Variable(-0.06f, name: \"weight\");\n",
    "var b = tf.Variable(-0.73f, name: \"bias\");"
   ]
  },
  {
   "cell_type": "code",
   "execution_count": 7,
   "metadata": {},
   "outputs": [
    {
     "data": {},
     "metadata": {},
     "output_type": "display_data"
    }
   ],
   "source": [
    "var pred = tf.add(tf.multiply(X, W), b);"
   ]
  },
  {
   "cell_type": "code",
   "execution_count": 8,
   "metadata": {},
   "outputs": [
    {
     "data": {},
     "metadata": {},
     "output_type": "display_data"
    }
   ],
   "source": [
    "var cost = tf.reduce_sum(tf.pow(pred - Y, 2.0f)) / (2.0f * n_samples);"
   ]
  },
  {
   "cell_type": "code",
   "execution_count": 9,
   "metadata": {},
   "outputs": [
    {
     "data": {},
     "metadata": {},
     "output_type": "display_data"
    }
   ],
   "source": [
    "var optimizer = tf.train.GradientDescentOptimizer(0.01f).minimize(cost);"
   ]
  },
  {
   "cell_type": "code",
   "execution_count": 10,
   "metadata": {},
   "outputs": [
    {
     "data": {},
     "metadata": {},
     "output_type": "display_data"
    }
   ],
   "source": [
    "var init = tf.global_variables_initializer();"
   ]
  },
  {
   "cell_type": "code",
   "execution_count": 11,
   "metadata": {},
   "outputs": [
    {
     "data": {
      "text/plain": [
       "Epoch: 50 cost=0.1932824 W=0.440269 b=-0.5702394"
      ]
     },
     "metadata": {},
     "output_type": "display_data"
    },
    {
     "data": {
      "text/plain": [
       "Epoch: 100 cost=0.1798451 W=0.4289288 b=-0.4886577"
      ]
     },
     "metadata": {},
     "output_type": "display_data"
    },
    {
     "data": {
      "text/plain": [
       "Epoch: 150 cost=0.1679595 W=0.4182628 b=-0.4119281"
      ]
     },
     "metadata": {},
     "output_type": "display_data"
    },
    {
     "data": {
      "text/plain": [
       "Epoch: 200 cost=0.1574465 W=0.4082314 b=-0.3397623"
      ]
     },
     "metadata": {},
     "output_type": "display_data"
    },
    {
     "data": {
      "text/plain": [
       "Epoch: 250 cost=0.1481478 W=0.3987965 b=-0.2718883"
      ]
     },
     "metadata": {},
     "output_type": "display_data"
    },
    {
     "data": {
      "text/plain": [
       "Epoch: 300 cost=0.1399229 W=0.3899226 b=-0.208051"
      ]
     },
     "metadata": {},
     "output_type": "display_data"
    },
    {
     "data": {
      "text/plain": [
       "Epoch: 350 cost=0.1326481 W=0.3815766 b=-0.1480103"
      ]
     },
     "metadata": {},
     "output_type": "display_data"
    },
    {
     "data": {
      "text/plain": [
       "Epoch: 400 cost=0.1262135 W=0.373727 b=-0.09154031"
      ]
     },
     "metadata": {},
     "output_type": "display_data"
    },
    {
     "data": {
      "text/plain": [
       "Epoch: 450 cost=0.1205223 W=0.3663442 b=-0.038429"
      ]
     },
     "metadata": {},
     "output_type": "display_data"
    },
    {
     "data": {
      "text/plain": [
       "Epoch: 500 cost=0.1154885 W=0.3594005 b=0.01152356"
      ]
     },
     "metadata": {},
     "output_type": "display_data"
    },
    {
     "data": {
      "text/plain": [
       "Epoch: 550 cost=0.1110362 W=0.3528697 b=0.05850525"
      ]
     },
     "metadata": {},
     "output_type": "display_data"
    },
    {
     "data": {
      "text/plain": [
       "Epoch: 600 cost=0.1070983 W=0.3467275 b=0.1026927"
      ]
     },
     "metadata": {},
     "output_type": "display_data"
    },
    {
     "data": {
      "text/plain": [
       "Epoch: 650 cost=0.1036154 W=0.3409505 b=0.1442519"
      ]
     },
     "metadata": {},
     "output_type": "display_data"
    },
    {
     "data": {
      "text/plain": [
       "Epoch: 700 cost=0.100535 W=0.335517 b=0.1833397"
      ]
     },
     "metadata": {},
     "output_type": "display_data"
    },
    {
     "data": {
      "text/plain": [
       "Epoch: 750 cost=0.09781052 W=0.3304067 b=0.2201028"
      ]
     },
     "metadata": {},
     "output_type": "display_data"
    },
    {
     "data": {
      "text/plain": [
       "Epoch: 800 cost=0.09540092 W=0.3256003 b=0.2546793"
      ]
     },
     "metadata": {},
     "output_type": "display_data"
    },
    {
     "data": {
      "text/plain": [
       "Epoch: 850 cost=0.09326982 W=0.3210799 b=0.2871991"
      ]
     },
     "metadata": {},
     "output_type": "display_data"
    },
    {
     "data": {
      "text/plain": [
       "Epoch: 900 cost=0.09138502 W=0.3168282 b=0.3177855"
      ]
     },
     "metadata": {},
     "output_type": "display_data"
    },
    {
     "data": {
      "text/plain": [
       "Epoch: 950 cost=0.08971816 W=0.3128294 b=0.3465521"
      ]
     },
     "metadata": {},
     "output_type": "display_data"
    },
    {
     "data": {
      "text/plain": [
       "Epoch: 1000 cost=0.08824395 W=0.3090685 b=0.3736083"
      ]
     },
     "metadata": {},
     "output_type": "display_data"
    },
    {
     "data": {
      "text/plain": [
       "Optimization Finished!"
      ]
     },
     "metadata": {},
     "output_type": "display_data"
    },
    {
     "data": {
      "text/plain": [
       "Training cost=0.08824395 W=0.3090685 b=0.3736083"
      ]
     },
     "metadata": {},
     "output_type": "display_data"
    },
    {
     "data": {
      "text/plain": [
       "Testing... (Mean square loss Comparison)"
      ]
     },
     "metadata": {},
     "output_type": "display_data"
    },
    {
     "data": {
      "text/plain": [
       "Testing cost=0.07984468"
      ]
     },
     "metadata": {},
     "output_type": "display_data"
    },
    {
     "data": {
      "text/plain": [
       "Absolute mean square loss difference: 0.008399263"
      ]
     },
     "metadata": {},
     "output_type": "display_data"
    },
    {
     "data": {},
     "metadata": {},
     "output_type": "display_data"
    }
   ],
   "source": [
    "using (var sess = tf.Session())\n",
    "{\n",
    "    sess.run(init);\n",
    "\n",
    "    \n",
    "    for (int epoch = 0; epoch < 1000; epoch++)\n",
    "    {\n",
    "        foreach (var (x, y) in zip<float>(train_X, train_Y))\n",
    "                sess.run(optimizer, (X, x), (Y, y));\n",
    "\n",
    "                    // Display logs per epoch step\n",
    "        if ((epoch + 1) % 50 == 0)\n",
    "        {\n",
    "                        var c = sess.run(cost, (X, train_X), (Y, train_Y));\n",
    "                        Console.WriteLine($\"Epoch: {epoch + 1} cost={c} \" + $\"W={sess.run(W)} b={sess.run(b)}\");\n",
    "        }\n",
    "    }\n",
    "\n",
    "    Console.WriteLine(\"Optimization Finished!\");\n",
    "    var training_cost = sess.run(cost, (X, train_X), (Y, train_Y));\n",
    "    Console.WriteLine($\"Training cost={training_cost} W={sess.run(W)} b={sess.run(b)}\");\n",
    "\n",
    "    \n",
    "    var test_X = np.array(6.83f, 4.668f, 8.9f, 7.91f, 5.7f, 8.7f, 3.1f, 2.1f);\n",
    "    var test_Y = np.array(1.84f, 2.273f, 3.2f, 2.831f, 2.92f, 3.24f, 1.35f, 1.03f);\n",
    "    Console.WriteLine(\"Testing... (Mean square loss Comparison)\");\n",
    "    var testing_cost = sess.run(tf.reduce_sum(tf.pow(pred - Y, 2.0f)) / (2.0f * test_X.shape[0]),(X, test_X), (Y, test_Y));\n",
    "    Console.WriteLine($\"Testing cost={testing_cost}\");\n",
    "    var diff = Math.Abs((float)training_cost - (float)testing_cost);\n",
    "    Console.WriteLine($\"Absolute mean square loss difference: {diff}\");\n",
    "}\n"
   ]
  },
  {
   "cell_type": "code",
   "execution_count": null,
   "metadata": {},
   "outputs": [],
   "source": []
  }
 ],
 "metadata": {
  "kernelspec": {
   "display_name": "C#",
   "language": "csharp",
   "name": "csharpcore"
  },
  "language_info": {
   "file_extension": ".cs",
   "mimetype": "text/x-csharp",
   "name": ".netstandard",
   "pygments_lexer": "CSharp",
   "version": "4.0.30319"
  }
 },
 "nbformat": 4,
 "nbformat_minor": 2
}
