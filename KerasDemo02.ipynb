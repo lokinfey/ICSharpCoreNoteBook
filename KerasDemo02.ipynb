{
 "cells": [
  {
   "cell_type": "markdown",
   "metadata": {},
   "source": [
    "## Add Keras.NET / Numpy.Bare / Python.Runtime.OSX Library"
   ]
  },
  {
   "cell_type": "code",
   "execution_count": 0,
   "metadata": {},
   "outputs": [
    {
     "data": {},
     "metadata": {},
     "output_type": "display_data"
    }
   ],
   "source": [
    "#r \"Keras.dll\""
   ]
  },
  {
   "cell_type": "code",
   "execution_count": 1,
   "metadata": {},
   "outputs": [
    {
     "data": {},
     "metadata": {},
     "output_type": "display_data"
    }
   ],
   "source": [
    "#r \"Numpy.Bare.dll\""
   ]
  },
  {
   "cell_type": "code",
   "execution_count": 2,
   "metadata": {},
   "outputs": [
    {
     "data": {},
     "metadata": {},
     "output_type": "display_data"
    }
   ],
   "source": [
    "#r \"nuget:Python.Runtime.OSX , 3.7.0\""
   ]
  },
  {
   "cell_type": "code",
   "execution_count": 3,
   "metadata": {},
   "outputs": [
    {
     "data": {},
     "metadata": {},
     "output_type": "display_data"
    }
   ],
   "source": [
    "using System;\n",
    "using System.IO;\n",
    "using Numpy;\n",
    "using Keras;\n",
    "using Keras.Layers;\n",
    "using Keras.Models;\n",
    "using Keras.PreProcessing.Image;"
   ]
  },
  {
   "cell_type": "markdown",
   "metadata": {},
   "source": [
    "## CNN Method"
   ]
  },
  {
   "cell_type": "code",
   "execution_count": 4,
   "metadata": {},
   "outputs": [
    {
     "data": {
      "text/plain": [
       "keras"
      ]
     },
     "metadata": {},
     "output_type": "display_data"
    },
    {
     "data": {
      "text/plain": [
       "tensorflow"
      ]
     },
     "metadata": {},
     "output_type": "display_data"
    },
    {
     "data": {
      "text/plain": [
       "onnxmltools"
      ]
     },
     "metadata": {},
     "output_type": "display_data"
    },
    {
     "data": {
      "text/plain": [
       "tensorflowjs"
      ]
     },
     "metadata": {},
     "output_type": "display_data"
    },
    {
     "data": {},
     "metadata": {},
     "output_type": "display_data"
    }
   ],
   "source": [
    "var model = new Sequential();\n",
    "\n",
    "model.Add(new Conv2D(32,(3,3).ToTuple(), input_shape: new Shape(64,64,3), activation:\"relu\"));\n",
    "\n",
    "model.Add(new MaxPooling2D( pool_size: (2,2).ToTuple() ));\n",
    "\n",
    "model.Add(new Conv2D(32,(3,3).ToTuple(),activation:\"relu\"));\n",
    "\n",
    "model.Add(new MaxPooling2D( pool_size: (2,2).ToTuple() ));\n",
    "\n",
    "model.Add(new Flatten());\n",
    "\n",
    "model.Add(new Dense(128, activation:\"relu\"));\n",
    "                \n",
    "model.Add(new Dense(1, activation: \"sigmoid\"));\n",
    "                \n",
    "model.Compile( optimizer :\"adam\" ,  loss: \"binary_crossentropy\" , metrics :  new string[]{\"accuracy\"} );"
   ]
  },
  {
   "cell_type": "markdown",
   "metadata": {},
   "source": [
    "## data split , set train_dataset / test_dataset"
   ]
  },
  {
   "cell_type": "code",
   "execution_count": 5,
   "metadata": {},
   "outputs": [
    {
     "data": {},
     "metadata": {},
     "output_type": "display_data"
    }
   ],
   "source": [
    "var datagen = new  ImageDataGenerator( rescale : (float)1.0/255 ,  shear_range : (float)0.2 , zoom_range : (float)0.2 , horizontal_flip : true  );"
   ]
  },
  {
   "cell_type": "code",
   "execution_count": 6,
   "metadata": {},
   "outputs": [
    {
     "data": {},
     "metadata": {},
     "output_type": "display_data"
    }
   ],
   "source": [
    "var train_dataset = datagen.FlowFromDirectory( directory: \"dataset/kerasdataset/training_set\" , target_size : (64,64).ToTuple(),batch_size : 32 , class_mode :\"binary\");      "
   ]
  },
  {
   "cell_type": "code",
   "execution_count": 7,
   "metadata": {},
   "outputs": [
    {
     "data": {},
     "metadata": {},
     "output_type": "display_data"
    }
   ],
   "source": [
    "var test_dataset = datagen.FlowFromDirectory( directory: \"dataset/kerasdataset/test_set\" , target_size : (64,64).ToTuple(),batch_size : 32 , class_mode :\"binary\");"
   ]
  },
  {
   "cell_type": "markdown",
   "metadata": {},
   "source": [
    "## Train & Save Model"
   ]
  },
  {
   "cell_type": "code",
   "execution_count": 8,
   "metadata": {},
   "outputs": [
    {
     "data": {},
     "metadata": {},
     "output_type": "display_data"
    }
   ],
   "source": [
    "model.FitGenerator(train_dataset , steps_per_epoch : 8000 , epochs :3 , validation_steps : 2000 , validation_data :  test_dataset ) ;"
   ]
  },
  {
   "cell_type": "code",
   "execution_count": 9,
   "metadata": {},
   "outputs": [
    {
     "data": {},
     "metadata": {},
     "output_type": "display_data"
    }
   ],
   "source": [
    "model.Save(\"DogCatModel.h5\");"
   ]
  },
  {
   "cell_type": "code",
   "execution_count": 10,
   "metadata": {},
   "outputs": [
    {
     "data": {},
     "metadata": {},
     "output_type": "display_data"
    }
   ],
   "source": [
    "model.Summary();"
   ]
  },
  {
   "cell_type": "markdown",
   "metadata": {},
   "source": [
    "## Test Data"
   ]
  },
  {
   "cell_type": "code",
   "execution_count": 11,
   "metadata": {},
   "outputs": [
    {
     "data": {},
     "metadata": {},
     "output_type": "display_data"
    }
   ],
   "source": [
    "var img = ImageUtil.LoadImg(\"test01.jpg\", target_size: new Shape(64,64));"
   ]
  },
  {
   "cell_type": "code",
   "execution_count": 12,
   "metadata": {},
   "outputs": [
    {
     "data": {},
     "metadata": {},
     "output_type": "display_data"
    }
   ],
   "source": [
    "NDarray x = ImageUtil.ImageToArray(img);\n",
    "x = np.expand_dims(x,0);\n",
    "var result = model.Predict(x);"
   ]
  },
  {
   "cell_type": "code",
   "execution_count": 13,
   "metadata": {},
   "outputs": [
    {
     "data": {
      "text/plain": [
       "dog"
      ]
     },
     "metadata": {},
     "output_type": "display_data"
    },
    {
     "data": {},
     "metadata": {},
     "output_type": "display_data"
    }
   ],
   "source": [
    "Console.WriteLine(result[0][0].ToString()==\"1.0\"?\"dog\":\"cat\");"
   ]
  },
  {
   "cell_type": "code",
   "execution_count": null,
   "metadata": {},
   "outputs": [],
   "source": []
  }
 ],
 "metadata": {
  "kernelspec": {
   "display_name": "C#",
   "language": "csharp",
   "name": "csharpcore"
  },
  "language_info": {
   "file_extension": ".cs",
   "mimetype": "text/x-csharp",
   "name": ".netstandard",
   "pygments_lexer": "CSharp",
   "version": "4.0.30319"
  }
 },
 "nbformat": 4,
 "nbformat_minor": 2
}
